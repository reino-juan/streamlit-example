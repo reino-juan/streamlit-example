{
  "nbformat": 4,
  "nbformat_minor": 0,
  "metadata": {
    "colab": {
      "provenance": [],
      "authorship_tag": "ABX9TyMx4ozA2jR8nQGJnuAt26FH"
    },
    "kernelspec": {
      "name": "python3",
      "display_name": "Python 3"
    },
    "language_info": {
      "name": "python"
    }
  },
  "cells": [
    {
      "cell_type": "code",
      "source": [
        "!pip install pytube moviepy # Install pytube and moviepy libraries\n",
        "!pip install imageio_ffmpeg\n",
        "\n"
      ],
      "metadata": {
        "colab": {
          "base_uri": "https://localhost:8080/"
        },
        "id": "YZ71GHtlqBn-",
        "outputId": "3922ea1f-1e9a-4d36-9759-511b94a5d95f"
      },
      "execution_count": null,
      "outputs": [
        {
          "output_type": "stream",
          "name": "stdout",
          "text": [
            "Looking in indexes: https://pypi.org/simple, https://us-python.pkg.dev/colab-wheels/public/simple/\n",
            "Requirement already satisfied: pytube in /usr/local/lib/python3.9/dist-packages (12.1.2)\n",
            "Requirement already satisfied: moviepy in /usr/local/lib/python3.9/dist-packages (0.2.3.5)\n",
            "Requirement already satisfied: decorator<5.0,>=4.0.2 in /usr/local/lib/python3.9/dist-packages (from moviepy) (4.4.2)\n",
            "Requirement already satisfied: numpy in /usr/local/lib/python3.9/dist-packages (from moviepy) (1.22.4)\n",
            "Requirement already satisfied: tqdm<5.0,>=4.11.2 in /usr/local/lib/python3.9/dist-packages (from moviepy) (4.65.0)\n",
            "Requirement already satisfied: imageio<3.0,>=2.1.2 in /usr/local/lib/python3.9/dist-packages (from moviepy) (2.9.0)\n",
            "Requirement already satisfied: pillow in /usr/local/lib/python3.9/dist-packages (from imageio<3.0,>=2.1.2->moviepy) (8.4.0)\n",
            "Looking in indexes: https://pypi.org/simple, https://us-python.pkg.dev/colab-wheels/public/simple/\n",
            "Collecting imageio_ffmpeg\n",
            "  Downloading imageio_ffmpeg-0.4.8-py3-none-manylinux2010_x86_64.whl (26.9 MB)\n",
            "\u001b[2K     \u001b[90m━━━━━━━━━━━━━━━━━━━━━━━━━━━━━━━━━━━━━━━━\u001b[0m \u001b[32m26.9/26.9 MB\u001b[0m \u001b[31m52.6 MB/s\u001b[0m eta \u001b[36m0:00:00\u001b[0m\n",
            "\u001b[?25hInstalling collected packages: imageio_ffmpeg\n",
            "Successfully installed imageio_ffmpeg-0.4.8\n"
          ]
        }
      ]
    },
    {
      "cell_type": "code",
      "source": [
        "import os\n",
        "from pytube import YouTube\n",
        "from moviepy.video.io.VideoFileClip import VideoFileClip"
      ],
      "metadata": {
        "id": "O5sD340sqDZ8"
      },
      "execution_count": null,
      "outputs": []
    },
    {
      "cell_type": "code",
      "execution_count": null,
      "metadata": {
        "colab": {
          "base_uri": "https://localhost:8080/"
        },
        "id": "89pRegJCpcsO",
        "outputId": "e010619a-6fdb-4b40-abec-18da67cbd37a"
      },
      "outputs": [
        {
          "output_type": "stream",
          "name": "stdout",
          "text": [
            "[MoviePy] >>>> Building video /content/Sidralytics 2023 - Raw Footage_cropped.mp4\n",
            "[MoviePy] Writing audio in Sidralytics 2023 - Raw Footage_croppedTEMP_MPY_wvf_snd.mp3\n"
          ]
        },
        {
          "output_type": "stream",
          "name": "stderr",
          "text": [
            "100%|██████████| 49679/49679 [01:11<00:00, 693.38it/s]\n"
          ]
        },
        {
          "output_type": "stream",
          "name": "stdout",
          "text": [
            "[MoviePy] Done.\n",
            "[MoviePy] Writing video /content/Sidralytics 2023 - Raw Footage_cropped.mp4\n"
          ]
        },
        {
          "output_type": "stream",
          "name": "stderr",
          "text": [
            " 30%|██▉       | 20111/67591 [17:08<47:21, 16.71it/s]"
          ]
        }
      ],
      "source": [
        "\n",
        "\n",
        "# Define the YouTube video URL and download path\n",
        "youtube_url = \"https://youtu.be/l9SiC9NCBcU\" # Replace with your YouTube video URL\n",
        "download_path = \"/content/\"\n",
        "\n",
        "# Download the YouTube video\n",
        "yt = YouTube(youtube_url)\n",
        "yt.streams.filter(progressive=True, file_extension='mp4').order_by('resolution').desc().first().download(download_path)\n",
        "\n",
        "# Define the start and end time to crop the video\n",
        "start_time = \"02:06:33\" # Replace with the start time in \"hh:mm:ss\" format\n",
        "end_time = \"02:44:06\" # Replace with the end time in \"hh:mm:ss\" format\n",
        "\n",
        "# Convert start and end times to seconds\n",
        "start_seconds = sum(x * int(t) for x, t in zip([3600, 60, 1], start_time.split(\":\")))\n",
        "end_seconds = sum(x * int(t) for x, t in zip([3600, 60, 1], end_time.split(\":\")))\n",
        "\n",
        "# Define the input and output file paths\n",
        "input_file = os.path.join(download_path, yt.title + \".mp4\")\n",
        "output_file = os.path.join(download_path, yt.title + \"_cropped.mp4\")\n",
        "\n",
        "# Crop the video using moviepy\n",
        "clip = VideoFileClip(input_file).subclip(start_seconds, end_seconds)\n",
        "\n",
        "# Export the cropped video\n",
        "clip.write_videofile(output_file, codec='libx264')\n",
        "\n",
        "\n"
      ]
    },
    {
      "cell_type": "code",
      "source": [
        "# Download the cropped video\n",
        "from google.colab import files\n",
        "files.download(output_file)"
      ],
      "metadata": {
        "id": "p9CK6PIbqGDu"
      },
      "execution_count": null,
      "outputs": []
    }
  ]
}