{
  "nbformat": 4,
  "nbformat_minor": 0,
  "metadata": {
    "colab": {
      "provenance": [],
      "authorship_tag": "ABX9TyP9uIKYLZL4keRsN6IaU7vv",
      "include_colab_link": true
    },
    "kernelspec": {
      "name": "python3",
      "display_name": "Python 3"
    },
    "language_info": {
      "name": "python"
    }
  },
  "cells": [
    {
      "cell_type": "markdown",
      "metadata": {
        "id": "view-in-github",
        "colab_type": "text"
      },
      "source": [
        "<a href=\"https://colab.research.google.com/github/reino-juan/streamlit-example/blob/master/Destcargar_videos.ipynb\" target=\"_parent\"><img src=\"https://colab.research.google.com/assets/colab-badge.svg\" alt=\"Open In Colab\"/></a>"
      ]
    },
    {
      "cell_type": "code",
      "execution_count": null,
      "metadata": {
        "id": "hS3vth1lzECB"
      },
      "outputs": [],
      "source": [
        "import os\n",
        "import streamlit as st\n",
        "from pytube import YouTube\n",
        "from moviepy.video.io.VideoFileClip import VideoFileClip\n",
        "\n",
        "# Set download path\n",
        "download_path = \"/app\"\n",
        "\n",
        "# Define function to crop video\n",
        "def crop_video(input_file, output_file, start_time, end_time):\n",
        "    # Convert start and end times to seconds\n",
        "    start_seconds = sum(x * int(t) for x, t in zip([3600, 60, 1], start_time.split(\":\")))\n",
        "    end_seconds = sum(x * int(t) for x, t in zip([3600, 60, 1], end_time.split(\":\")))\n",
        "\n",
        "    # Crop the video using moviepy\n",
        "    clip = VideoFileClip(input_file).subclip(start_seconds, end_seconds)\n",
        "\n",
        "    # Export the cropped video\n",
        "    clip.write_videofile(output_file, codec='libx264')\n",
        "\n",
        "    # Return output file path\n",
        "    return output_file\n",
        "\n",
        "# Define Streamlit app\n",
        "def main():\n",
        "    st.title(\"YouTube Video Cropper\")\n",
        "\n",
        "    # Get YouTube video URL from user input\n",
        "    youtube_url = st.text_input(\"Enter YouTube Video URL\")\n",
        "\n",
        "    # Check if URL is valid\n",
        "    if \"youtube.com\" in youtube_url:\n",
        "        try:\n",
        "            # Download YouTube video\n",
        "            yt = YouTube(youtube_url)\n",
        "            yt.streams.filter(progressive=True, file_extension='mp4').order_by('resolution').desc().first().download(download_path)\n",
        "\n",
        "            # Get video file path and name\n",
        "            input_file = os.path.join(download_path, yt.title + \".mp4\")\n",
        "\n",
        "            # Get start and end times from user input\n",
        "            start_time = st.text_input(\"Enter Start Time (hh:mm:ss)\")\n",
        "            end_time = st.text_input(\"Enter End Time (hh:mm:ss)\")\n",
        "\n",
        "            # Check if start and end times are valid\n",
        "            if start_time and end_time:\n",
        "                try:\n",
        "                    # Crop video\n",
        "                    output_file = os.path.join(download_path, yt.title + \"_cropped.mp4\")\n",
        "                    output_file = crop_video(input_file, output_file, start_time, end_time)\n",
        "\n",
        "                    # Download cropped video\n",
        "                    st.success(\"Video cropped successfully!\")\n",
        "                    st.download_button(\"Download Cropped Video\", output_file)\n",
        "                except Exception as e:\n",
        "                    st.error(f\"Error cropping video: {str(e)}\")\n",
        "            else:\n",
        "                st.warning(\"Please enter valid start and end times\")\n",
        "        except Exception as e:\n",
        "            st.error(f\"Error downloading YouTube video: {str(e)}\")\n",
        "    else:\n",
        "        st.warning(\"Please enter a valid YouTube video URL\")\n",
        "\n",
        "if __name__ == \"__main__\":\n",
        "    main()\n"
      ]
    }
  ]
}